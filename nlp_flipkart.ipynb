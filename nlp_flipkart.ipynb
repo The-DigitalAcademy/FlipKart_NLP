{
 "cells": [
  {
   "cell_type": "code",
   "execution_count": null,
   "metadata": {},
   "outputs": [],
   "source": [
    "import numpy as np \n",
    "import pandas as pd \n",
    "import matplotlib.pyplot as plt\n",
    "import seaborn as sns \n",
    "from textblob import TextBlob\n",
    "import nltk\n",
    "from nltk import word_tokenize, FreqDist\n",
    "from nltk.corpus import stopwords\n",
    "import re\n",
    "import wordcloud\n",
    "from PIL import Image\n"
   ]
  },
  {
   "cell_type": "code",
   "execution_count": null,
   "metadata": {},
   "outputs": [],
   "source": [
    "df=pd.read_csv(\"flipkart_product\")\n",
    "df.head()"
   ]
  },
  {
   "cell_type": "code",
   "execution_count": null,
   "metadata": {},
   "outputs": [],
   "source": [
    "df.isnull().sum()"
   ]
  },
  {
   "cell_type": "code",
   "execution_count": null,
   "metadata": {},
   "outputs": [],
   "source": [
    "df.shape"
   ]
  },
  {
   "cell_type": "code",
   "execution_count": null,
   "metadata": {},
   "outputs": [],
   "source": [
    "#remove punctuations\n",
    "import string\n",
    "def rmv_punc(text):\n",
    "  punct = string.punctuation\n",
    "  return text.translate(str.maketrans('', '', punct))"
   ]
  },
  {
   "cell_type": "code",
   "execution_count": null,
   "metadata": {},
   "outputs": [],
   "source": [
    "df['Summary'] = df['Summary'].apply(lambda x: rmv_punc(x))\n",
    "df['Price'] = df['Price'].apply(lambda x: rmv_punc(x))"
   ]
  },
  {
   "cell_type": "code",
   "execution_count": null,
   "metadata": {},
   "outputs": [],
   "source": [
    "df.head()"
   ]
  },
  {
   "cell_type": "code",
   "execution_count": null,
   "metadata": {},
   "outputs": [],
   "source": [
    "#remove character with undefined name\n",
    "import re\n",
    "def rmv_char(text):\n",
    "  text = re.sub('[^a-zA-Z0-9(/)]',' ', text)\n",
    "  text = re.sub('\\s+',' ', text) #remove whitespace\n",
    "  return text"
   ]
  },
  {
   "cell_type": "code",
   "execution_count": null,
   "metadata": {},
   "outputs": [],
   "source": [
    "df['Summary'] = df['Summary'].apply(lambda x: rmv_char(x).lower())\n",
    "df['Review'] = df['Review'].apply(lambda x: rmv_char(x).lower())\n",
    "df['Price'] = df['Price'].apply(lambda x: rmv_char(x).lower())\n",
    "df['ProductName']=df['ProductName'].apply(lambda x:rmv_char(x))\n"
   ]
  },
  {
   "cell_type": "code",
   "execution_count": null,
   "metadata": {},
   "outputs": [],
   "source": [
    "df.head()"
   ]
  },
  {
   "cell_type": "code",
   "execution_count": null,
   "metadata": {},
   "outputs": [],
   "source": [
    "df.to_csv(\"clean_flipkart_Products_Data.csv\")"
   ]
  },
  {
   "attachments": {},
   "cell_type": "markdown",
   "metadata": {},
   "source": [
    "sentiment analysis"
   ]
  },
  {
   "cell_type": "code",
   "execution_count": null,
   "metadata": {},
   "outputs": [],
   "source": [
    "sentiments = SentimentIntensityAnalyzer()\n",
    "df[\"Positive\"] = [sentiments.polarity_scores(i)[\"pos\"] for i in df[\"Summary\"]]\n",
    "df[\"Negative\"] = [sentiments.polarity_scores(i)[\"neg\"] for i in df[\"Summary\"]]\n",
    "df[\"Neutral\"] = [sentiments.polarity_scores(i)[\"neu\"] for i in df[\"Summary\"]]\n",
    "df[\"Compound\"] = [sentiments.polarity_scores(i)[\"compound\"] for i in df[\"Summary\"]]\n",
    "# data.head()\n",
    "score = df[\"Compound\"].values\n",
    "sentiment = []\n",
    "for i in score:\n",
    "    if i >= 0.05 :\n",
    "        sentiment.append('Positive')\n",
    "    elif i <= -0.05 :\n",
    "        sentiment.append('Negative')\n",
    "    else:\n",
    "        sentiment.append('Neutral')\n",
    "df[\"Sentiment\"] = sentiment\n",
    "# data.head()"
   ]
  },
  {
   "cell_type": "code",
   "execution_count": null,
   "metadata": {},
   "outputs": [],
   "source": [
    "df.drop(df.columns[[5, 6, 7, 8]], axis=1, inplace=True)\n",
    "df"
   ]
  },
  {
   "cell_type": "code",
   "execution_count": null,
   "metadata": {},
   "outputs": [],
   "source": [
    "data.to_csv(\"Sentiment_product.csv\")"
   ]
  },
  {
   "attachments": {},
   "cell_type": "markdown",
   "metadata": {},
   "source": [
    "Data Preparation"
   ]
  },
  {
   "cell_type": "code",
   "execution_count": null,
   "metadata": {},
   "outputs": [],
   "source": [
    "df.info()"
   ]
  },
  {
   "cell_type": "code",
   "execution_count": null,
   "metadata": {},
   "outputs": [],
   "source": [
    "def extract_parentheses(text):\n",
    "    start = text.rfind('(')\n",
    "    end = text.rfind(')')\n",
    "    if start != -1 and end != -1:\n",
    "        return text[start+1:end]\n",
    "    else:\n",
    "        return \"\"\n",
    "\n",
    "df['ProductFeature'] = df['ProductName'].apply(extract_parentheses)\n",
    "df.head()"
   ]
  },
  {
   "cell_type": "code",
   "execution_count": null,
   "metadata": {},
   "outputs": [],
   "source": [
    "#removing special characters\n",
    "def extract_price(p):\n",
    "    expression = r'\\d+'\n",
    "    match = re.findall(expression,p)\n",
    "    return ''.join(match)\n",
    "\n",
    "df['Price'] = df['Price'].astype(str)\n",
    "df['ExtractedPrice'] = df['Price'].apply(extract_price)\n",
    "df.head()"
   ]
  },
  {
   "cell_type": "code",
   "execution_count": null,
   "metadata": {},
   "outputs": [],
   "source": []
  },
  {
   "cell_type": "code",
   "execution_count": null,
   "metadata": {},
   "outputs": [],
   "source": [
    "df.drop('Price', axis = 1, inplace = True)\n",
    "df.head()"
   ]
  },
  {
   "cell_type": "code",
   "execution_count": null,
   "metadata": {},
   "outputs": [],
   "source": [
    "#Check unique values of other columns\n",
    "df['Rate'].unique()"
   ]
  },
  {
   "cell_type": "code",
   "execution_count": null,
   "metadata": {},
   "outputs": [],
   "source": [
    "num = ['5', '3', '1', '4', '2'] \n",
    "    \n",
    "# selecting rows based on condition \n",
    "df[~df['Rate'].isin(num)]"
   ]
  },
  {
   "cell_type": "code",
   "execution_count": null,
   "metadata": {},
   "outputs": [],
   "source": [
    "#removing rows since they are just numbers\n",
    "df.drop(df[~df['Rate'].isin(num)].index, inplace = True)\n",
    "df['Rate'].unique()"
   ]
  },
  {
   "attachments": {},
   "cell_type": "markdown",
   "metadata": {},
   "source": [
    "sintiment analysis"
   ]
  },
  {
   "cell_type": "code",
   "execution_count": null,
   "metadata": {},
   "outputs": [],
   "source": [
    "df['Summary'] = df['Summary'].astype(str)"
   ]
  },
  {
   "cell_type": "code",
   "execution_count": null,
   "metadata": {},
   "outputs": [],
   "source": [
    "subjectivity_list = []\n",
    "polarity_list = []\n",
    "for review in df['Summary']:\n",
    "    tb = TextBlob(review)\n",
    "    subjectivity_list.append(tb.sentiment.subjectivity)\n",
    "    polarity_list.append(tb.sentiment.polarity)\n",
    "    \n",
    "#Add the result to the DataFrame\n",
    "df['Subjectivity'] = subjectivity_list\n",
    "df['Polarity'] = polarity_list\n",
    "df.head()"
   ]
  },
  {
   "cell_type": "code",
   "execution_count": null,
   "metadata": {},
   "outputs": [],
   "source": [
    "#If polarity is greater than 0, the text is positive; it is negative if the value is less than 0; it is neutral when the value is equal to 0.\n",
    "#Subjectivity has a range from 0.0 to 1.0. A higher value means the text is more subjective."
   ]
  },
  {
   "cell_type": "code",
   "execution_count": null,
   "metadata": {},
   "outputs": [],
   "source": [
    "def sentiment_analysis(polarity):\n",
    "    if polarity > 0:\n",
    "        return 'Positive'\n",
    "    elif polarity < 0:\n",
    "        return 'Negative'\n",
    "    else:\n",
    "        return 'Neutral'\n",
    "df['Sentiment'] = df['Polarity'].apply(sentiment_analysis)\n",
    "df.head()"
   ]
  },
  {
   "attachments": {},
   "cell_type": "markdown",
   "metadata": {},
   "source": [
    "visualization"
   ]
  },
  {
   "cell_type": "code",
   "execution_count": null,
   "metadata": {},
   "outputs": [],
   "source": [
    "plt.figure(figsize=(8,6))\n",
    "plt.scatter(df.Polarity, df.Subjectivity, color = '#C5D4EB')\n",
    "plt.axhline(y = np.mean(df.Subjectivity), color = '#6C85BD')\n",
    "plt.axvline(x = np.mean(df.Polarity), color = '#5B61A1')\n",
    "plt.xlabel(\"Polarity\")\n",
    "plt.xlim((-1, 1))\n",
    "plt.ylabel(\"Subjectivity\")\n",
    "plt.ylim((0, 1))\n",
    "plt.show()"
   ]
  },
  {
   "cell_type": "code",
   "execution_count": null,
   "metadata": {},
   "outputs": [],
   "source": [
    "sns.countplot(x=df[\"Sentiment\"], color = '#C5D4EB')"
   ]
  },
  {
   "attachments": {},
   "cell_type": "markdown",
   "metadata": {},
   "source": [
    "Word Cloud"
   ]
  },
  {
   "cell_type": "code",
   "execution_count": null,
   "metadata": {},
   "outputs": [],
   "source": [
    "ignored_words = set(stopwords.words(\"english\"))\n",
    "ignored_words.add(\"bad\")\n",
    "ignored_words.add(\"good\")\n",
    "ignored_words.add(\"flipkart\")\n",
    "ignored_words.add(\"also\")\n",
    "ignored_words.add(\"like\")\n",
    "ignored_words.add(\"item\")\n",
    "ignored_words.add(\"one\")\n",
    "ignored_words.add(\"much\")\n",
    "ignored_words.add(\"even\")\n",
    "ignored_words.add(\"product\")"
   ]
  },
  {
   "cell_type": "code",
   "execution_count": null,
   "metadata": {},
   "outputs": [],
   "source": [
    "review_list = []\n",
    "tokens = []\n",
    "for r in df[df[\"Sentiment\"] == \"Negative\"][\"Summary\"]:\n",
    "    r = r.lower() #lowercase of the review\n",
    "    r = re.sub(\"http?:\\/\\/\\S+\",\" \",r) #Remove hyperlinks if any\n",
    "    r = re.sub(r\"\\s+[a-zA-Z]\\s+\", \" \", r) #Remove single characters\n",
    "    for token in word_tokenize(r):\n",
    "        if token.isalpha() and token not in ignored_words: #Remove stop words\n",
    "            tokens.append(token)\n",
    "s = \" \".join(tokens)"
   ]
  },
  {
   "cell_type": "code",
   "execution_count": null,
   "metadata": {},
   "outputs": [],
   "source": [
    "#Word Cloud for all reviews\n",
    "mask = np.array(Image.open(\"/kaggle/input/dislike/dislike.png\"))\n",
    "mask = np.array(Image.fromarray(mask).resize((600,600)))\n",
    "wc = wordcloud.WordCloud(background_color='white',\n",
    "                         width = 600,\n",
    "                         max_words = 1000,\n",
    "                         height = 600,\n",
    "                         stopwords = ignored_words)\n",
    "wc.generate(s)\n",
    "image_colors = wordcloud.ImageColorGenerator(mask)\n",
    "plt.imshow(wc.recolor(color_func=image_colors),interpolation=\"bilinear\")\n",
    "plt.axis(\"off\")\n",
    "plt.show()"
   ]
  },
  {
   "attachments": {},
   "cell_type": "markdown",
   "metadata": {},
   "source": [
    "The customers mainly complain about the quality, value for money, size, and time."
   ]
  }
 ],
 "metadata": {
  "language_info": {
   "name": "python"
  },
  "orig_nbformat": 4
 },
 "nbformat": 4,
 "nbformat_minor": 2
}
